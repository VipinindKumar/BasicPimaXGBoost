{
  "cells": [
    {
      "metadata": {
        "_uuid": "8f2839f25d086af736a60e9eeb907d3b93b6e0e5",
        "_cell_guid": "b1076dfc-b9ad-4769-8c92-a6c4dae69d19",
        "trusted": true
      },
      "cell_type": "code",
      "source": "# This Python 3 environment comes with many helpful analytics libraries installed\n# It is defined by the kaggle/python docker image: https://github.com/kaggle/docker-python\n# For example, here's several helpful packages to load in \n\nimport numpy as np # linear algebra\nimport pandas as pd # data processing, CSV file I/O (e.g. pd.read_csv)\n\n# Input data files are available in the \"../input/\" directory.\n# For example, running this (by clicking run or pressing Shift+Enter) will list the files in the input directory\n\nimport os\nprint(os.listdir(\"../input\"))\n\n# Any results you write to the current directory are saved as output.",
      "execution_count": null,
      "outputs": []
    },
    {
      "metadata": {
        "_cell_guid": "79c7e3d0-c299-4dcb-8224-4455121ee9b0",
        "_uuid": "d629ff2d2480ee46fbb7e2d37f6b5fab8052498a",
        "trusted": true
      },
      "cell_type": "code",
      "source": "data = pd.read_csv('../input/diabetes.csv')\ndata.head()",
      "execution_count": null,
      "outputs": []
    },
    {
      "metadata": {
        "trusted": true,
        "_uuid": "5140be665880b82e9840deadf2131c509c57c7f5"
      },
      "cell_type": "code",
      "source": "data.shape",
      "execution_count": null,
      "outputs": []
    },
    {
      "metadata": {
        "trusted": true,
        "_uuid": "dc36527c92739a15c63465beee8ad806c2bdfbe1"
      },
      "cell_type": "code",
      "source": "from xgboost import XGBClassifier\nfrom sklearn.model_selection import train_test_split\nfrom sklearn.metrics import accuracy_score",
      "execution_count": null,
      "outputs": []
    },
    {
      "metadata": {
        "trusted": true,
        "scrolled": true,
        "_uuid": "982b341e762f3dc8685544c8605182c9dd09bb8f"
      },
      "cell_type": "code",
      "source": "# divide the data into input features and output\ny = data['Outcome']\nX = data.drop('Outcome', axis=1)",
      "execution_count": null,
      "outputs": []
    },
    {
      "metadata": {
        "trusted": true,
        "_uuid": "cbb9af5c852475489fb20bdf2268f9050bc0de71"
      },
      "cell_type": "code",
      "source": "# adding scailing of the data\nfrom sklearn.preprocessing import StandardScaler\n\nscaler = StandardScaler()\nX = scaler.fit_transform(X) #ndarray",
      "execution_count": null,
      "outputs": []
    },
    {
      "metadata": {
        "trusted": true,
        "_uuid": "a6b81b929e0ab42d32b96ac04fdc69be77f8b7c1"
      },
      "cell_type": "code",
      "source": "X_train, X_test, y_train, y_test = train_test_split(X, y, test_size=0.3)\nX_train.shape, X_test.shape",
      "execution_count": null,
      "outputs": []
    },
    {
      "metadata": {
        "_uuid": "d189068e3657a17e4852e3351f81dd30cf252c55"
      },
      "cell_type": "markdown",
      "source": "- Manual tuning of some HyperParameters"
    },
    {
      "metadata": {
        "trusted": true,
        "_uuid": "11f5ff34977ec2585cd96e67627bb0edbd1c30c4"
      },
      "cell_type": "code",
      "source": "# create XGBoost model (default parameter)\nmodel = XGBClassifier() # 76.19%",
      "execution_count": null,
      "outputs": []
    },
    {
      "metadata": {
        "trusted": true,
        "_uuid": "e57b4176e289c023ac3241ef8c4968315f8b01ce"
      },
      "cell_type": "code",
      "source": "model = XGBClassifier(max_depth=7) # 77.06%\n#model = XGBClassifier(max_depth=8) # 75.32%\n#model = XGBClassifier(max_depth=6) # 76.19%",
      "execution_count": null,
      "outputs": []
    },
    {
      "metadata": {
        "trusted": true,
        "_uuid": "ef8894cb911b607d263f733e25e96dcdab0293d1"
      },
      "cell_type": "code",
      "source": "model = XGBClassifier(max_depth=7, learning_rate=0.01) # Train: 89.57%, Test: 75.76%\n# need to train it for longer\nmodel = XGBClassifier(max_depth=7, learning_rate=0.01, n_estimators=150) # Train: 91.99%, Test: 74.03%\nmodel = XGBClassifier(max_depth=7, learning_rate=0.01, n_estimators=200) # Train: 93.48%, Test: 75.32%\nmodel = XGBClassifier(max_depth=7, learning_rate=0.01, n_estimators=300) # Train: 95.53%, Test: 75.32%\nmodel = XGBClassifier(max_depth=7, learning_rate=0.01, n_estimators=500) # Train: 99.26%, Test: 74.46%\nmodel = XGBClassifier(max_depth=7, learning_rate=0.01, n_estimators=600) # Train: 99.63%, Test: 75.32%\nmodel = XGBClassifier(max_depth=7, learning_rate=0.01, n_estimators=800) # Train: 100.00%, Test: 76.19%\n\n# trick: multiply n_estimators with a number and divide learning_rate with same number, for better model\nmodel = XGBClassifier(max_depth=7, learning_rate=0.01/5, n_estimators=800*5) # Train: 99.81%, Test: 77.49%",
      "execution_count": null,
      "outputs": []
    },
    {
      "metadata": {
        "trusted": true,
        "_uuid": "a8587c35c338a075e88e34d31e3329721f4c0a34"
      },
      "cell_type": "code",
      "source": "model = XGBClassifier(max_depth=7, learning_rate=0.01, n_estimators=800,\n                      min_child_weight=0) # Train: 100.00%, Test: 75.76%\nmodel = XGBClassifier(max_depth=7, learning_rate=0.01, n_estimators=800,\n                      min_child_weight=5) # Train: 92.55%, Test: 76.19%\nmodel = XGBClassifier(max_depth=7, learning_rate=0.01, n_estimators=800,\n                      min_child_weight=15) # Train: 83.80%, Test: 75.32%\nmodel = XGBClassifier(max_depth=7, learning_rate=0.01, n_estimators=800,\n                      min_child_weight=25) # Train: 81.38%, Test: 76.62%\nmodel = XGBClassifier(max_depth=7, learning_rate=0.01, n_estimators=800,\n                      min_child_weight=38) # Train: 77.28%, Test: 76.62%",
      "execution_count": 136,
      "outputs": []
    },
    {
      "metadata": {
        "trusted": true,
        "_uuid": "1ebbd401b68e9f016fff313336b2d4d7da229077"
      },
      "cell_type": "code",
      "source": "model = XGBClassifier(max_depth=7, learning_rate=0.01/5, n_estimators=800*5)",
      "execution_count": 151,
      "outputs": []
    },
    {
      "metadata": {
        "trusted": true,
        "_uuid": "b979368d82a54501aed0cf5f2b81cf1c1111844d"
      },
      "cell_type": "code",
      "source": "# fit the model\nmodel.fit(X_train, y_train)",
      "execution_count": null,
      "outputs": []
    },
    {
      "metadata": {
        "trusted": true,
        "_uuid": "fcc06fad0002c3ac7759674e004df966d2b7a476"
      },
      "cell_type": "code",
      "source": "# make predictions for test data\ny_pred_train = model.predict(X_train)\ny_pred = model.predict(X_test)\n\n# evaluate predictions\nprint(\"Train: %.2f%%\" % (accuracy_score(y_train, y_pred_train) * 100.0))\nprint(\"Test: %.2f%%\" % (accuracy_score(y_test, y_pred) * 100.0))",
      "execution_count": null,
      "outputs": []
    },
    {
      "metadata": {
        "trusted": true,
        "_uuid": "9e3aa3a09026fcf5b6db5a940f6372829694c5a2"
      },
      "cell_type": "code",
      "source": "",
      "execution_count": null,
      "outputs": []
    }
  ],
  "metadata": {
    "kernelspec": {
      "display_name": "Python 3",
      "language": "python",
      "name": "python3"
    },
    "language_info": {
      "name": "python",
      "version": "3.6.6",
      "mimetype": "text/x-python",
      "codemirror_mode": {
        "name": "ipython",
        "version": 3
      },
      "pygments_lexer": "ipython3",
      "nbconvert_exporter": "python",
      "file_extension": ".py"
    }
  },
  "nbformat": 4,
  "nbformat_minor": 1
}